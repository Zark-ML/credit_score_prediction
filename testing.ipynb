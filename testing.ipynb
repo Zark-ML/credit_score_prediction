{
 "cells": [
  {
   "cell_type": "code",
   "execution_count": 19,
   "metadata": {},
   "outputs": [],
   "source": [
    "import pandas as pd\n",
    "import numpy as np"
   ]
  },
  {
   "cell_type": "code",
   "execution_count": 20,
   "metadata": {},
   "outputs": [
    {
     "name": "stdout",
     "output_type": "stream",
     "text": [
      "The autoreload extension is already loaded. To reload it, use:\n",
      "  %reload_ext autoreload\n"
     ]
    }
   ],
   "source": [
    "%load_ext autoreload\n",
    "%autoreload 2"
   ]
  },
  {
   "cell_type": "code",
   "execution_count": 21,
   "metadata": {},
   "outputs": [
    {
     "data": {
      "text/html": [
       "<div>\n",
       "<style scoped>\n",
       "    .dataframe tbody tr th:only-of-type {\n",
       "        vertical-align: middle;\n",
       "    }\n",
       "\n",
       "    .dataframe tbody tr th {\n",
       "        vertical-align: top;\n",
       "    }\n",
       "\n",
       "    .dataframe thead th {\n",
       "        text-align: right;\n",
       "    }\n",
       "</style>\n",
       "<table border=\"1\" class=\"dataframe\">\n",
       "  <thead>\n",
       "    <tr style=\"text-align: right;\">\n",
       "      <th></th>\n",
       "      <th>R_ENTERTAINMENT</th>\n",
       "      <th>CAT_CREDIT_CARD</th>\n",
       "      <th>R_CLOTHING_DEBT</th>\n",
       "      <th>R_HEALTH_DEBT</th>\n",
       "      <th>R_ENTERTAINMENT_DEBT</th>\n",
       "      <th>R_EDUCATION_INCOME</th>\n",
       "      <th>R_DEBT_INCOME</th>\n",
       "      <th>R_GROCERIES</th>\n",
       "      <th>R_EXPENDITURE_INCOME</th>\n",
       "      <th>R_TAX_DEBT</th>\n",
       "      <th>...</th>\n",
       "      <th>R_EXPENDITURE_DEBT</th>\n",
       "      <th>T_TAX_12</th>\n",
       "      <th>T_FINES_12</th>\n",
       "      <th>R_EXPENDITURE</th>\n",
       "      <th>R_DEBT_SAVINGS</th>\n",
       "      <th>CAT_GAMBLING</th>\n",
       "      <th>T_FINES_6</th>\n",
       "      <th>R_GROCERIES_DEBT</th>\n",
       "      <th>R_UTILITIES_DEBT</th>\n",
       "      <th>CREDIT_SCORE</th>\n",
       "    </tr>\n",
       "  </thead>\n",
       "  <tbody>\n",
       "    <tr>\n",
       "      <th>0</th>\n",
       "      <td>0.293363</td>\n",
       "      <td>0.0</td>\n",
       "      <td>0.002762</td>\n",
       "      <td>0.000295</td>\n",
       "      <td>0.001862</td>\n",
       "      <td>0.000000</td>\n",
       "      <td>0.432425</td>\n",
       "      <td>0.773031</td>\n",
       "      <td>0.249944</td>\n",
       "      <td>0.000000</td>\n",
       "      <td>...</td>\n",
       "      <td>0.006247</td>\n",
       "      <td>0.000000</td>\n",
       "      <td>0.000000</td>\n",
       "      <td>0.711912</td>\n",
       "      <td>0.004098</td>\n",
       "      <td>1.0</td>\n",
       "      <td>0.000000</td>\n",
       "      <td>0.002984</td>\n",
       "      <td>0.001717</td>\n",
       "      <td>0.288</td>\n",
       "    </tr>\n",
       "    <tr>\n",
       "      <th>1</th>\n",
       "      <td>0.287582</td>\n",
       "      <td>0.0</td>\n",
       "      <td>0.014518</td>\n",
       "      <td>0.000738</td>\n",
       "      <td>0.017533</td>\n",
       "      <td>0.000000</td>\n",
       "      <td>0.110563</td>\n",
       "      <td>0.487391</td>\n",
       "      <td>0.181777</td>\n",
       "      <td>0.016195</td>\n",
       "      <td>...</td>\n",
       "      <td>0.022208</td>\n",
       "      <td>0.115970</td>\n",
       "      <td>0.000000</td>\n",
       "      <td>0.320078</td>\n",
       "      <td>0.011820</td>\n",
       "      <td>0.0</td>\n",
       "      <td>0.000000</td>\n",
       "      <td>0.005443</td>\n",
       "      <td>0.009089</td>\n",
       "      <td>0.650</td>\n",
       "    </tr>\n",
       "    <tr>\n",
       "      <th>2</th>\n",
       "      <td>0.573152</td>\n",
       "      <td>0.0</td>\n",
       "      <td>0.001736</td>\n",
       "      <td>0.000837</td>\n",
       "      <td>0.002184</td>\n",
       "      <td>0.000000</td>\n",
       "      <td>0.467560</td>\n",
       "      <td>0.747555</td>\n",
       "      <td>0.249944</td>\n",
       "      <td>0.000000</td>\n",
       "      <td>...</td>\n",
       "      <td>0.005777</td>\n",
       "      <td>0.000000</td>\n",
       "      <td>0.025334</td>\n",
       "      <td>0.694415</td>\n",
       "      <td>0.084394</td>\n",
       "      <td>1.0</td>\n",
       "      <td>0.033272</td>\n",
       "      <td>0.002656</td>\n",
       "      <td>0.001616</td>\n",
       "      <td>0.338</td>\n",
       "    </tr>\n",
       "    <tr>\n",
       "      <th>3</th>\n",
       "      <td>0.300654</td>\n",
       "      <td>0.0</td>\n",
       "      <td>0.008600</td>\n",
       "      <td>0.001624</td>\n",
       "      <td>0.006872</td>\n",
       "      <td>0.102980</td>\n",
       "      <td>0.210807</td>\n",
       "      <td>0.644879</td>\n",
       "      <td>0.249944</td>\n",
       "      <td>0.006941</td>\n",
       "      <td>...</td>\n",
       "      <td>0.012813</td>\n",
       "      <td>0.098454</td>\n",
       "      <td>0.000000</td>\n",
       "      <td>0.568399</td>\n",
       "      <td>0.033294</td>\n",
       "      <td>1.0</td>\n",
       "      <td>0.000000</td>\n",
       "      <td>0.002361</td>\n",
       "      <td>0.003535</td>\n",
       "      <td>0.518</td>\n",
       "    </tr>\n",
       "    <tr>\n",
       "      <th>4</th>\n",
       "      <td>0.314731</td>\n",
       "      <td>1.0</td>\n",
       "      <td>0.000631</td>\n",
       "      <td>0.001526</td>\n",
       "      <td>0.000706</td>\n",
       "      <td>0.000000</td>\n",
       "      <td>0.432425</td>\n",
       "      <td>0.448276</td>\n",
       "      <td>0.181777</td>\n",
       "      <td>0.004113</td>\n",
       "      <td>...</td>\n",
       "      <td>0.005677</td>\n",
       "      <td>0.231646</td>\n",
       "      <td>0.000000</td>\n",
       "      <td>0.501060</td>\n",
       "      <td>0.006988</td>\n",
       "      <td>1.0</td>\n",
       "      <td>0.000000</td>\n",
       "      <td>0.004754</td>\n",
       "      <td>0.004343</td>\n",
       "      <td>0.346</td>\n",
       "    </tr>\n",
       "    <tr>\n",
       "      <th>...</th>\n",
       "      <td>...</td>\n",
       "      <td>...</td>\n",
       "      <td>...</td>\n",
       "      <td>...</td>\n",
       "      <td>...</td>\n",
       "      <td>...</td>\n",
       "      <td>...</td>\n",
       "      <td>...</td>\n",
       "      <td>...</td>\n",
       "      <td>...</td>\n",
       "      <td>...</td>\n",
       "      <td>...</td>\n",
       "      <td>...</td>\n",
       "      <td>...</td>\n",
       "      <td>...</td>\n",
       "      <td>...</td>\n",
       "      <td>...</td>\n",
       "      <td>...</td>\n",
       "      <td>...</td>\n",
       "      <td>...</td>\n",
       "      <td>...</td>\n",
       "    </tr>\n",
       "    <tr>\n",
       "      <th>995</th>\n",
       "      <td>0.286576</td>\n",
       "      <td>1.0</td>\n",
       "      <td>0.002367</td>\n",
       "      <td>0.001280</td>\n",
       "      <td>0.000578</td>\n",
       "      <td>0.000000</td>\n",
       "      <td>0.452082</td>\n",
       "      <td>0.640762</td>\n",
       "      <td>0.181777</td>\n",
       "      <td>0.003085</td>\n",
       "      <td>...</td>\n",
       "      <td>0.005427</td>\n",
       "      <td>0.394522</td>\n",
       "      <td>0.000000</td>\n",
       "      <td>0.605161</td>\n",
       "      <td>0.012823</td>\n",
       "      <td>1.0</td>\n",
       "      <td>0.000000</td>\n",
       "      <td>0.004459</td>\n",
       "      <td>0.003535</td>\n",
       "      <td>0.236</td>\n",
       "    </tr>\n",
       "    <tr>\n",
       "      <th>996</th>\n",
       "      <td>0.623680</td>\n",
       "      <td>0.0</td>\n",
       "      <td>0.006233</td>\n",
       "      <td>0.001280</td>\n",
       "      <td>0.013615</td>\n",
       "      <td>0.000000</td>\n",
       "      <td>0.226042</td>\n",
       "      <td>0.625836</td>\n",
       "      <td>0.181777</td>\n",
       "      <td>0.010797</td>\n",
       "      <td>...</td>\n",
       "      <td>0.010864</td>\n",
       "      <td>0.169870</td>\n",
       "      <td>0.000000</td>\n",
       "      <td>0.438848</td>\n",
       "      <td>0.026180</td>\n",
       "      <td>0.0</td>\n",
       "      <td>0.000000</td>\n",
       "      <td>0.003377</td>\n",
       "      <td>0.005150</td>\n",
       "      <td>0.578</td>\n",
       "    </tr>\n",
       "    <tr>\n",
       "      <th>997</th>\n",
       "      <td>0.569382</td>\n",
       "      <td>0.0</td>\n",
       "      <td>0.000000</td>\n",
       "      <td>0.002363</td>\n",
       "      <td>0.000000</td>\n",
       "      <td>0.000000</td>\n",
       "      <td>0.221318</td>\n",
       "      <td>0.772259</td>\n",
       "      <td>0.300037</td>\n",
       "      <td>0.000000</td>\n",
       "      <td>...</td>\n",
       "      <td>0.034462</td>\n",
       "      <td>0.000000</td>\n",
       "      <td>0.000000</td>\n",
       "      <td>1.000000</td>\n",
       "      <td>0.002476</td>\n",
       "      <td>0.0</td>\n",
       "      <td>0.000000</td>\n",
       "      <td>0.006492</td>\n",
       "      <td>0.008786</td>\n",
       "      <td>0.398</td>\n",
       "    </tr>\n",
       "    <tr>\n",
       "      <th>998</th>\n",
       "      <td>0.303419</td>\n",
       "      <td>1.0</td>\n",
       "      <td>0.002604</td>\n",
       "      <td>0.000689</td>\n",
       "      <td>0.001895</td>\n",
       "      <td>0.503961</td>\n",
       "      <td>0.453444</td>\n",
       "      <td>0.833505</td>\n",
       "      <td>0.333258</td>\n",
       "      <td>0.000000</td>\n",
       "      <td>...</td>\n",
       "      <td>0.006616</td>\n",
       "      <td>0.000000</td>\n",
       "      <td>0.000000</td>\n",
       "      <td>0.836515</td>\n",
       "      <td>0.257831</td>\n",
       "      <td>0.0</td>\n",
       "      <td>0.000000</td>\n",
       "      <td>0.003279</td>\n",
       "      <td>0.001818</td>\n",
       "      <td>0.414</td>\n",
       "    </tr>\n",
       "    <tr>\n",
       "      <th>999</th>\n",
       "      <td>0.296129</td>\n",
       "      <td>0.0</td>\n",
       "      <td>0.028089</td>\n",
       "      <td>0.101103</td>\n",
       "      <td>0.054366</td>\n",
       "      <td>0.000000</td>\n",
       "      <td>0.027027</td>\n",
       "      <td>0.533453</td>\n",
       "      <td>0.333258</td>\n",
       "      <td>0.021594</td>\n",
       "      <td>...</td>\n",
       "      <td>0.111051</td>\n",
       "      <td>0.021983</td>\n",
       "      <td>0.000000</td>\n",
       "      <td>0.525097</td>\n",
       "      <td>0.000488</td>\n",
       "      <td>0.0</td>\n",
       "      <td>0.000000</td>\n",
       "      <td>0.062000</td>\n",
       "      <td>0.078368</td>\n",
       "      <td>0.714</td>\n",
       "    </tr>\n",
       "  </tbody>\n",
       "</table>\n",
       "<p>1000 rows × 23 columns</p>\n",
       "</div>"
      ],
      "text/plain": [
       "     R_ENTERTAINMENT  CAT_CREDIT_CARD  R_CLOTHING_DEBT  R_HEALTH_DEBT  \\\n",
       "0           0.293363              0.0         0.002762       0.000295   \n",
       "1           0.287582              0.0         0.014518       0.000738   \n",
       "2           0.573152              0.0         0.001736       0.000837   \n",
       "3           0.300654              0.0         0.008600       0.001624   \n",
       "4           0.314731              1.0         0.000631       0.001526   \n",
       "..               ...              ...              ...            ...   \n",
       "995         0.286576              1.0         0.002367       0.001280   \n",
       "996         0.623680              0.0         0.006233       0.001280   \n",
       "997         0.569382              0.0         0.000000       0.002363   \n",
       "998         0.303419              1.0         0.002604       0.000689   \n",
       "999         0.296129              0.0         0.028089       0.101103   \n",
       "\n",
       "     R_ENTERTAINMENT_DEBT  R_EDUCATION_INCOME  R_DEBT_INCOME  R_GROCERIES  \\\n",
       "0                0.001862            0.000000       0.432425     0.773031   \n",
       "1                0.017533            0.000000       0.110563     0.487391   \n",
       "2                0.002184            0.000000       0.467560     0.747555   \n",
       "3                0.006872            0.102980       0.210807     0.644879   \n",
       "4                0.000706            0.000000       0.432425     0.448276   \n",
       "..                    ...                 ...            ...          ...   \n",
       "995              0.000578            0.000000       0.452082     0.640762   \n",
       "996              0.013615            0.000000       0.226042     0.625836   \n",
       "997              0.000000            0.000000       0.221318     0.772259   \n",
       "998              0.001895            0.503961       0.453444     0.833505   \n",
       "999              0.054366            0.000000       0.027027     0.533453   \n",
       "\n",
       "     R_EXPENDITURE_INCOME  R_TAX_DEBT  ...  R_EXPENDITURE_DEBT  T_TAX_12  \\\n",
       "0                0.249944    0.000000  ...            0.006247  0.000000   \n",
       "1                0.181777    0.016195  ...            0.022208  0.115970   \n",
       "2                0.249944    0.000000  ...            0.005777  0.000000   \n",
       "3                0.249944    0.006941  ...            0.012813  0.098454   \n",
       "4                0.181777    0.004113  ...            0.005677  0.231646   \n",
       "..                    ...         ...  ...                 ...       ...   \n",
       "995              0.181777    0.003085  ...            0.005427  0.394522   \n",
       "996              0.181777    0.010797  ...            0.010864  0.169870   \n",
       "997              0.300037    0.000000  ...            0.034462  0.000000   \n",
       "998              0.333258    0.000000  ...            0.006616  0.000000   \n",
       "999              0.333258    0.021594  ...            0.111051  0.021983   \n",
       "\n",
       "     T_FINES_12  R_EXPENDITURE  R_DEBT_SAVINGS  CAT_GAMBLING  T_FINES_6  \\\n",
       "0      0.000000       0.711912        0.004098           1.0   0.000000   \n",
       "1      0.000000       0.320078        0.011820           0.0   0.000000   \n",
       "2      0.025334       0.694415        0.084394           1.0   0.033272   \n",
       "3      0.000000       0.568399        0.033294           1.0   0.000000   \n",
       "4      0.000000       0.501060        0.006988           1.0   0.000000   \n",
       "..          ...            ...             ...           ...        ...   \n",
       "995    0.000000       0.605161        0.012823           1.0   0.000000   \n",
       "996    0.000000       0.438848        0.026180           0.0   0.000000   \n",
       "997    0.000000       1.000000        0.002476           0.0   0.000000   \n",
       "998    0.000000       0.836515        0.257831           0.0   0.000000   \n",
       "999    0.000000       0.525097        0.000488           0.0   0.000000   \n",
       "\n",
       "     R_GROCERIES_DEBT  R_UTILITIES_DEBT  CREDIT_SCORE  \n",
       "0            0.002984          0.001717         0.288  \n",
       "1            0.005443          0.009089         0.650  \n",
       "2            0.002656          0.001616         0.338  \n",
       "3            0.002361          0.003535         0.518  \n",
       "4            0.004754          0.004343         0.346  \n",
       "..                ...               ...           ...  \n",
       "995          0.004459          0.003535         0.236  \n",
       "996          0.003377          0.005150         0.578  \n",
       "997          0.006492          0.008786         0.398  \n",
       "998          0.003279          0.001818         0.414  \n",
       "999          0.062000          0.078368         0.714  \n",
       "\n",
       "[1000 rows x 23 columns]"
      ]
     },
     "execution_count": 21,
     "metadata": {},
     "output_type": "execute_result"
    }
   ],
   "source": [
    "df = pd.read_csv(\"Data/final_data_10.csv\")\n",
    "df"
   ]
  },
  {
   "cell_type": "code",
   "execution_count": 22,
   "metadata": {},
   "outputs": [
    {
     "data": {
      "text/plain": [
       "((800, 22), (200, 22), (800,), (200,))"
      ]
     },
     "execution_count": 22,
     "metadata": {},
     "output_type": "execute_result"
    }
   ],
   "source": [
    "from sklearn.model_selection import train_test_split\n",
    "\n",
    "x_train, x_test, y_train, y_test = train_test_split(df.iloc[:,:-1], df.iloc[:,-1], test_size=0.2, random_state=63)\n",
    "x_train.shape, x_test.shape, y_train.shape, y_test.shape"
   ]
  },
  {
   "cell_type": "code",
   "execution_count": 23,
   "metadata": {},
   "outputs": [
    {
     "name": "stderr",
     "output_type": "stream",
     "text": [
      "\u001b[32m2024-03-09 00:55:36.194\u001b[0m | \u001b[31m\u001b[1mERROR   \u001b[0m | \u001b[36mModels.abstract_model\u001b[0m:\u001b[36mtrained\u001b[0m:\u001b[36m17\u001b[0m - \u001b[31m\u001b[1mFirst is not trained yet\u001b[0m\n",
      "\u001b[32m2024-03-09 00:55:36.205\u001b[0m | \u001b[1mINFO    \u001b[0m | \u001b[36mModels.LinearRegression\u001b[0m:\u001b[36mtrain\u001b[0m:\u001b[36m19\u001b[0m - \u001b[1mModel was trained successfully: status:True\u001b[0m\n"
     ]
    },
    {
     "name": "stdout",
     "output_type": "stream",
     "text": [
      "False\n",
      "True\n",
      "MAE -> 0.035958159154637015\n",
      "MSE -> 0.0022952183038585624\n",
      "RMSE -> 0.04790843666681853\n",
      "R2 -> 0.8675516508024951\n",
      "MAPE -> 0.07552920375923015\n"
     ]
    }
   ],
   "source": [
    "from Models.LinearRegression import LinearRegressionModel\n",
    "\n",
    "# Create an instance of the LinearRegressionModel class\n",
    "model = LinearRegressionModel(\"First\")\n",
    "print(model.trained)\n",
    "model.train(x_train, y_train)\n",
    "print(model.trained)\n",
    "model.predict(x_test)\n",
    "\n",
    "for sctype in [\"MAE\", \"MSE\", \"RMSE\", \"R2\", \"MAPE\"]:\n",
    "    print(sctype,\"->\", model.score(y_test, score_type=sctype))"
   ]
  },
  {
   "cell_type": "code",
   "execution_count": 6,
   "metadata": {},
   "outputs": [
    {
     "name": "stderr",
     "output_type": "stream",
     "text": [
      "\u001b[32m2024-03-05 20:29:57.476\u001b[0m | \u001b[31m\u001b[1mERROR   \u001b[0m | \u001b[36mModels.abstract_model\u001b[0m:\u001b[36mtrained\u001b[0m:\u001b[36m16\u001b[0m - \u001b[31m\u001b[1mFirst Ridge Model is not trained yet\u001b[0m\n",
      "\u001b[32m2024-03-05 20:29:57.479\u001b[0m | \u001b[1mINFO    \u001b[0m | \u001b[36mModels.RidgeRegression\u001b[0m:\u001b[36mtrain\u001b[0m:\u001b[36m20\u001b[0m - \u001b[1mModel was trained successfully: status:True\u001b[0m\n"
     ]
    },
    {
     "name": "stdout",
     "output_type": "stream",
     "text": [
      "False\n",
      "True\n",
      "MAE -> 0.03626046305620068\n",
      "MSE -> 0.0022858047893568457\n",
      "RMSE -> 0.04781009087375641\n",
      "R2 -> 0.8680948690461815\n",
      "MAPE -> 0.07918189867326726\n"
     ]
    }
   ],
   "source": [
    "from Models.RidgeRegression import RidgeRegressionModel\n",
    "\n",
    "# Create an instance of the RidgeRegressionModel class\n",
    "model = RidgeRegressionModel(\"First Ridge Model\")\n",
    "print(model.trained)\n",
    "model.train(x_train, y_train)\n",
    "print(model.trained)\n",
    "model.predict(x_test)\n",
    "\n",
    "for sctype in [\"MAE\", \"MSE\", \"RMSE\", \"R2\", \"MAPE\"]:\n",
    "    print(sctype,\"->\", model.score(y_test, score_type=sctype))"
   ]
  },
  {
   "cell_type": "code",
   "execution_count": 24,
   "metadata": {},
   "outputs": [
    {
     "name": "stderr",
     "output_type": "stream",
     "text": [
      "\u001b[32m2024-03-09 00:55:43.818\u001b[0m | \u001b[1mINFO    \u001b[0m | \u001b[36mModels.abstract_model\u001b[0m:\u001b[36msave\u001b[0m:\u001b[36m46\u001b[0m - \u001b[1mModel saved to saved_models/First.pkl\u001b[0m\n"
     ]
    }
   ],
   "source": [
    "model.save()"
   ]
  },
  {
   "cell_type": "code",
   "execution_count": 25,
   "metadata": {},
   "outputs": [
    {
     "name": "stderr",
     "output_type": "stream",
     "text": [
      "\u001b[32m2024-03-09 00:55:47.777\u001b[0m | \u001b[31m\u001b[1mERROR   \u001b[0m | \u001b[36mModels.abstract_model\u001b[0m:\u001b[36mload\u001b[0m:\u001b[36m61\u001b[0m - \u001b[31m\u001b[1mFailed to load the model: [Errno 2] No such file or directory: 'First.pkl'\u001b[0m\n"
     ]
    }
   ],
   "source": [
    "model_loaded = model.load()"
   ]
  },
  {
   "cell_type": "code",
   "execution_count": 11,
   "metadata": {},
   "outputs": [
    {
     "name": "stderr",
     "output_type": "stream",
     "text": [
      "\u001b[32m2024-03-09 00:51:29.680\u001b[0m | \u001b[31m\u001b[1mERROR   \u001b[0m | \u001b[36mModels.abstract_model\u001b[0m:\u001b[36mtrained\u001b[0m:\u001b[36m17\u001b[0m - \u001b[31m\u001b[1mFirst Lasso Model is not trained yet\u001b[0m\n",
      "\u001b[32m2024-03-09 00:51:29.691\u001b[0m | \u001b[1mINFO    \u001b[0m | \u001b[36mModels.LassoRegression\u001b[0m:\u001b[36mtrain\u001b[0m:\u001b[36m20\u001b[0m - \u001b[1mModel was trained successfully: status:True\u001b[0m\n"
     ]
    },
    {
     "name": "stdout",
     "output_type": "stream",
     "text": [
      "False\n",
      "True\n",
      "MAE -> 0.038231038698043084\n",
      "MSE -> 0.002449349546962852\n",
      "RMSE -> 0.04949090367898784\n",
      "R2 -> 0.8586573209365284\n",
      "MAPE -> 0.08032683719410892\n"
     ]
    }
   ],
   "source": [
    "from Models.LassoRegression import LassoRegressionModel\n",
    "\n",
    "# Create an instance of the LassoRegressionModel class\n",
    "model = LassoRegressionModel(\"First Lasso Model\", alpha=0.001)\n",
    "print(model.trained)\n",
    "model.train(x_train, y_train)\n",
    "print(model.trained)\n",
    "model.predict(x_test)\n",
    "\n",
    "for sctype in [\"MAE\", \"MSE\", \"RMSE\", \"R2\", \"MAPE\"]:\n",
    "    print(sctype,\"->\", model.score(y_test, score_type=sctype))"
   ]
  },
  {
   "cell_type": "code",
   "execution_count": 12,
   "metadata": {},
   "outputs": [],
   "source": [
    "def evaluate_model(model_class, x_train, y_train, **kwargs):\n",
    "    return model_class(\"First Model\", **kwargs).cross_validate(x_train, y_train, cv=5).mean()"
   ]
  },
  {
   "cell_type": "code",
   "execution_count": 13,
   "metadata": {},
   "outputs": [
    {
     "data": {
      "text/plain": [
       "[{'a': 1, 'b': 3}, {'a': 1, 'b': 4}, {'a': 2, 'b': 3}, {'a': 2, 'b': 4}]"
      ]
     },
     "execution_count": 13,
     "metadata": {},
     "output_type": "execute_result"
    }
   ],
   "source": [
    "from itertools import product\n",
    "\n",
    "kwargs_values = {\"a\": [1, 2], \"b\": [3, 4]}\n",
    "\n",
    "# Generating all possible combinations of values from the lists\n",
    "keys, values = zip(*kwargs_values.items())\n",
    "combinations = [dict(zip(keys, v)) for v in product(*values)]\n",
    "\n",
    "combinations"
   ]
  },
  {
   "cell_type": "code",
   "execution_count": 16,
   "metadata": {},
   "outputs": [],
   "source": [
    "def grid_search(model_class, x_train, y_train, kwargs_values):\n",
    "    keys, values = zip(*kwargs_values.items())\n",
    "    combinations = [dict(zip(keys, v)) for v in product(*values)]\n",
    "    for kwargs in combinations:\n",
    "        result = evaluate_model(model_class, x_train, y_train, **kwargs)\n",
    "        print(kwargs)\n",
    "        print(result)\n",
    "        print(\"--------------------------\")\n",
    "    # return results"
   ]
  },
  {
   "cell_type": "code",
   "execution_count": 17,
   "metadata": {},
   "outputs": [
    {
     "name": "stdout",
     "output_type": "stream",
     "text": [
      "{'alpha': 1e-08}\n",
      "0.8006364302635909\n",
      "--------------------------\n",
      "{'alpha': 1e-07}\n",
      "0.8006476548794323\n",
      "--------------------------\n",
      "{'alpha': 1e-06}\n",
      "0.8007577997409461\n",
      "--------------------------\n",
      "{'alpha': 1e-05}\n",
      "0.8016048140065323\n",
      "--------------------------\n",
      "{'alpha': 0.0001}\n",
      "0.8030301300131659\n",
      "--------------------------\n",
      "{'alpha': 0.001}\n",
      "0.7940184238163297\n",
      "--------------------------\n",
      "{'alpha': 0.01}\n",
      "0.44868872076077615\n",
      "--------------------------\n",
      "{'alpha': 0.1}\n",
      "-0.0024770624626651917\n",
      "--------------------------\n",
      "{'alpha': 0.5}\n",
      "-0.0024770624626651917\n",
      "--------------------------\n",
      "{'alpha': 1}\n",
      "-0.0024770624626651917\n",
      "--------------------------\n"
     ]
    }
   ],
   "source": [
    "grid_search(LassoRegressionModel, x_train, y_train, {\"alpha\": [1e-8, 0.0000001, 0.000001, 0.00001, 0.0001, 0.001, 0.01, 0.1, 0.5, 1]})"
   ]
  },
  {
   "cell_type": "code",
   "execution_count": 18,
   "metadata": {},
   "outputs": [
    {
     "data": {
      "text/plain": [
       "array([0.7870188 , 0.75270632, 0.82963637, 0.80391989, 0.79681073])"
      ]
     },
     "execution_count": 18,
     "metadata": {},
     "output_type": "execute_result"
    }
   ],
   "source": [
    "model.cross_validate(x_train, y_train, cv=5, scoring=\"r2\")"
   ]
  }
 ],
 "metadata": {
  "kernelspec": {
   "display_name": "venv",
   "language": "python",
   "name": "python3"
  },
  "language_info": {
   "codemirror_mode": {
    "name": "ipython",
    "version": 3
   },
   "file_extension": ".py",
   "mimetype": "text/x-python",
   "name": "python",
   "nbconvert_exporter": "python",
   "pygments_lexer": "ipython3",
   "version": "3.11.0"
  }
 },
 "nbformat": 4,
 "nbformat_minor": 2
}
