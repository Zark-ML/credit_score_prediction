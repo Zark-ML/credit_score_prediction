{
 "cells": [
  {
   "cell_type": "code",
   "execution_count": 1,
   "metadata": {},
   "outputs": [
    {
     "name": "stderr",
     "output_type": "stream",
     "text": [
      "/tmp/ipykernel_7724/2162656668.py:1: DeprecationWarning: \n",
      "Pyarrow will become a required dependency of pandas in the next major release of pandas (pandas 3.0),\n",
      "(to allow more performant data types, such as the Arrow string type, and better interoperability with other libraries)\n",
      "but was not found to be installed on your system.\n",
      "If this would cause problems for you,\n",
      "please provide us feedback at https://github.com/pandas-dev/pandas/issues/54466\n",
      "        \n",
      "  import pandas as pd\n"
     ]
    }
   ],
   "source": [
    "import pandas as pd\n",
    "import numpy as np"
   ]
  },
  {
   "cell_type": "code",
   "execution_count": 2,
   "metadata": {},
   "outputs": [],
   "source": [
    "%load_ext autoreload\n",
    "%autoreload 2\n"
   ]
  },
  {
   "cell_type": "code",
   "execution_count": 3,
   "metadata": {},
   "outputs": [
    {
     "data": {
      "text/html": [
       "<div>\n",
       "<style scoped>\n",
       "    .dataframe tbody tr th:only-of-type {\n",
       "        vertical-align: middle;\n",
       "    }\n",
       "\n",
       "    .dataframe tbody tr th {\n",
       "        vertical-align: top;\n",
       "    }\n",
       "\n",
       "    .dataframe thead th {\n",
       "        text-align: right;\n",
       "    }\n",
       "</style>\n",
       "<table border=\"1\" class=\"dataframe\">\n",
       "  <thead>\n",
       "    <tr style=\"text-align: right;\">\n",
       "      <th></th>\n",
       "      <th>R_EXPENDITURE_DEBT</th>\n",
       "      <th>DEBT</th>\n",
       "      <th>R_ENTERTAINMENT</th>\n",
       "      <th>R_DEBT_SAVINGS</th>\n",
       "      <th>R_EDUCATION_INCOME</th>\n",
       "      <th>T_FINES_6</th>\n",
       "      <th>CAT_GAMBLING</th>\n",
       "      <th>R_HEALTH_DEBT</th>\n",
       "      <th>T_HEALTH_12</th>\n",
       "      <th>T_FINES_12</th>\n",
       "      <th>...</th>\n",
       "      <th>R_EXPENDITURE_INCOME</th>\n",
       "      <th>R_EXPENDITURE</th>\n",
       "      <th>R_TAX_DEBT</th>\n",
       "      <th>CAT_CREDIT_CARD</th>\n",
       "      <th>INCOME</th>\n",
       "      <th>R_GAMBLING_INCOME</th>\n",
       "      <th>R_GROCERIES_DEBT</th>\n",
       "      <th>R_ENTERTAINMENT_DEBT</th>\n",
       "      <th>R_DEBT_INCOME</th>\n",
       "      <th>CREDIT_SCORE</th>\n",
       "    </tr>\n",
       "  </thead>\n",
       "  <tbody>\n",
       "    <tr>\n",
       "      <th>0</th>\n",
       "      <td>0.006247</td>\n",
       "      <td>0.089184</td>\n",
       "      <td>0.293363</td>\n",
       "      <td>0.004098</td>\n",
       "      <td>0.000000</td>\n",
       "      <td>0.000000</td>\n",
       "      <td>1.0</td>\n",
       "      <td>0.000295</td>\n",
       "      <td>0.007044</td>\n",
       "      <td>0.000000</td>\n",
       "      <td>...</td>\n",
       "      <td>0.249944</td>\n",
       "      <td>0.711912</td>\n",
       "      <td>0.000000</td>\n",
       "      <td>0.0</td>\n",
       "      <td>0.050248</td>\n",
       "      <td>0.191934</td>\n",
       "      <td>0.002984</td>\n",
       "      <td>0.001862</td>\n",
       "      <td>0.432425</td>\n",
       "      <td>0.288</td>\n",
       "    </tr>\n",
       "    <tr>\n",
       "      <th>1</th>\n",
       "      <td>0.022208</td>\n",
       "      <td>0.052885</td>\n",
       "      <td>0.287582</td>\n",
       "      <td>0.011820</td>\n",
       "      <td>0.000000</td>\n",
       "      <td>0.000000</td>\n",
       "      <td>0.0</td>\n",
       "      <td>0.000738</td>\n",
       "      <td>0.010280</td>\n",
       "      <td>0.000000</td>\n",
       "      <td>...</td>\n",
       "      <td>0.181777</td>\n",
       "      <td>0.320078</td>\n",
       "      <td>0.016195</td>\n",
       "      <td>0.0</td>\n",
       "      <td>0.116536</td>\n",
       "      <td>0.000000</td>\n",
       "      <td>0.005443</td>\n",
       "      <td>0.017533</td>\n",
       "      <td>0.110563</td>\n",
       "      <td>0.650</td>\n",
       "    </tr>\n",
       "    <tr>\n",
       "      <th>2</th>\n",
       "      <td>0.005777</td>\n",
       "      <td>0.089613</td>\n",
       "      <td>0.573152</td>\n",
       "      <td>0.084394</td>\n",
       "      <td>0.000000</td>\n",
       "      <td>0.033272</td>\n",
       "      <td>1.0</td>\n",
       "      <td>0.000837</td>\n",
       "      <td>0.019613</td>\n",
       "      <td>0.025334</td>\n",
       "      <td>...</td>\n",
       "      <td>0.249944</td>\n",
       "      <td>0.694415</td>\n",
       "      <td>0.000000</td>\n",
       "      <td>0.0</td>\n",
       "      <td>0.046696</td>\n",
       "      <td>0.188533</td>\n",
       "      <td>0.002656</td>\n",
       "      <td>0.002184</td>\n",
       "      <td>0.467560</td>\n",
       "      <td>0.338</td>\n",
       "    </tr>\n",
       "    <tr>\n",
       "      <th>3</th>\n",
       "      <td>0.012813</td>\n",
       "      <td>0.105405</td>\n",
       "      <td>0.300654</td>\n",
       "      <td>0.033294</td>\n",
       "      <td>0.102980</td>\n",
       "      <td>0.000000</td>\n",
       "      <td>1.0</td>\n",
       "      <td>0.001624</td>\n",
       "      <td>0.045523</td>\n",
       "      <td>0.000000</td>\n",
       "      <td>...</td>\n",
       "      <td>0.249944</td>\n",
       "      <td>0.568399</td>\n",
       "      <td>0.006941</td>\n",
       "      <td>0.0</td>\n",
       "      <td>0.121821</td>\n",
       "      <td>0.469874</td>\n",
       "      <td>0.002361</td>\n",
       "      <td>0.006872</td>\n",
       "      <td>0.210807</td>\n",
       "      <td>0.518</td>\n",
       "    </tr>\n",
       "    <tr>\n",
       "      <th>4</th>\n",
       "      <td>0.005677</td>\n",
       "      <td>0.402024</td>\n",
       "      <td>0.314731</td>\n",
       "      <td>0.006988</td>\n",
       "      <td>0.000000</td>\n",
       "      <td>0.000000</td>\n",
       "      <td>1.0</td>\n",
       "      <td>0.001526</td>\n",
       "      <td>0.165383</td>\n",
       "      <td>0.000000</td>\n",
       "      <td>...</td>\n",
       "      <td>0.181777</td>\n",
       "      <td>0.501060</td>\n",
       "      <td>0.004113</td>\n",
       "      <td>1.0</td>\n",
       "      <td>0.226510</td>\n",
       "      <td>0.056365</td>\n",
       "      <td>0.004754</td>\n",
       "      <td>0.000706</td>\n",
       "      <td>0.432425</td>\n",
       "      <td>0.346</td>\n",
       "    </tr>\n",
       "    <tr>\n",
       "      <th>...</th>\n",
       "      <td>...</td>\n",
       "      <td>...</td>\n",
       "      <td>...</td>\n",
       "      <td>...</td>\n",
       "      <td>...</td>\n",
       "      <td>...</td>\n",
       "      <td>...</td>\n",
       "      <td>...</td>\n",
       "      <td>...</td>\n",
       "      <td>...</td>\n",
       "      <td>...</td>\n",
       "      <td>...</td>\n",
       "      <td>...</td>\n",
       "      <td>...</td>\n",
       "      <td>...</td>\n",
       "      <td>...</td>\n",
       "      <td>...</td>\n",
       "      <td>...</td>\n",
       "      <td>...</td>\n",
       "      <td>...</td>\n",
       "      <td>...</td>\n",
       "    </tr>\n",
       "    <tr>\n",
       "      <th>995</th>\n",
       "      <td>0.005427</td>\n",
       "      <td>0.921732</td>\n",
       "      <td>0.286576</td>\n",
       "      <td>0.012823</td>\n",
       "      <td>0.000000</td>\n",
       "      <td>0.000000</td>\n",
       "      <td>1.0</td>\n",
       "      <td>0.001280</td>\n",
       "      <td>0.314123</td>\n",
       "      <td>0.000000</td>\n",
       "      <td>...</td>\n",
       "      <td>0.181777</td>\n",
       "      <td>0.605161</td>\n",
       "      <td>0.003085</td>\n",
       "      <td>1.0</td>\n",
       "      <td>0.496745</td>\n",
       "      <td>0.047619</td>\n",
       "      <td>0.004459</td>\n",
       "      <td>0.000578</td>\n",
       "      <td>0.452082</td>\n",
       "      <td>0.236</td>\n",
       "    </tr>\n",
       "    <tr>\n",
       "      <th>996</th>\n",
       "      <td>0.010864</td>\n",
       "      <td>0.114069</td>\n",
       "      <td>0.623680</td>\n",
       "      <td>0.026180</td>\n",
       "      <td>0.000000</td>\n",
       "      <td>0.000000</td>\n",
       "      <td>0.0</td>\n",
       "      <td>0.001280</td>\n",
       "      <td>0.038236</td>\n",
       "      <td>0.000000</td>\n",
       "      <td>...</td>\n",
       "      <td>0.181777</td>\n",
       "      <td>0.438848</td>\n",
       "      <td>0.010797</td>\n",
       "      <td>0.0</td>\n",
       "      <td>0.122949</td>\n",
       "      <td>0.000000</td>\n",
       "      <td>0.003377</td>\n",
       "      <td>0.013615</td>\n",
       "      <td>0.226042</td>\n",
       "      <td>0.578</td>\n",
       "    </tr>\n",
       "    <tr>\n",
       "      <th>997</th>\n",
       "      <td>0.034462</td>\n",
       "      <td>0.005154</td>\n",
       "      <td>0.569382</td>\n",
       "      <td>0.002476</td>\n",
       "      <td>0.000000</td>\n",
       "      <td>0.000000</td>\n",
       "      <td>0.0</td>\n",
       "      <td>0.002363</td>\n",
       "      <td>0.003236</td>\n",
       "      <td>0.000000</td>\n",
       "      <td>...</td>\n",
       "      <td>0.300037</td>\n",
       "      <td>1.000000</td>\n",
       "      <td>0.000000</td>\n",
       "      <td>0.0</td>\n",
       "      <td>0.000000</td>\n",
       "      <td>0.092323</td>\n",
       "      <td>0.006492</td>\n",
       "      <td>0.000000</td>\n",
       "      <td>0.221318</td>\n",
       "      <td>0.398</td>\n",
       "    </tr>\n",
       "    <tr>\n",
       "      <th>998</th>\n",
       "      <td>0.006616</td>\n",
       "      <td>0.101226</td>\n",
       "      <td>0.303419</td>\n",
       "      <td>0.257831</td>\n",
       "      <td>0.503961</td>\n",
       "      <td>0.000000</td>\n",
       "      <td>0.0</td>\n",
       "      <td>0.000689</td>\n",
       "      <td>0.019173</td>\n",
       "      <td>0.000000</td>\n",
       "      <td>...</td>\n",
       "      <td>0.333258</td>\n",
       "      <td>0.836515</td>\n",
       "      <td>0.000000</td>\n",
       "      <td>1.0</td>\n",
       "      <td>0.054390</td>\n",
       "      <td>0.000000</td>\n",
       "      <td>0.003279</td>\n",
       "      <td>0.001895</td>\n",
       "      <td>0.453444</td>\n",
       "      <td>0.414</td>\n",
       "    </tr>\n",
       "    <tr>\n",
       "      <th>999</th>\n",
       "      <td>0.111051</td>\n",
       "      <td>0.007416</td>\n",
       "      <td>0.296129</td>\n",
       "      <td>0.000488</td>\n",
       "      <td>0.000000</td>\n",
       "      <td>0.000000</td>\n",
       "      <td>0.0</td>\n",
       "      <td>0.101103</td>\n",
       "      <td>0.200163</td>\n",
       "      <td>0.000000</td>\n",
       "      <td>...</td>\n",
       "      <td>0.333258</td>\n",
       "      <td>0.525097</td>\n",
       "      <td>0.021594</td>\n",
       "      <td>0.0</td>\n",
       "      <td>0.066858</td>\n",
       "      <td>0.000000</td>\n",
       "      <td>0.062000</td>\n",
       "      <td>0.054366</td>\n",
       "      <td>0.027027</td>\n",
       "      <td>0.714</td>\n",
       "    </tr>\n",
       "  </tbody>\n",
       "</table>\n",
       "<p>1000 rows × 24 columns</p>\n",
       "</div>"
      ],
      "text/plain": [
       "     R_EXPENDITURE_DEBT      DEBT  R_ENTERTAINMENT  R_DEBT_SAVINGS  \\\n",
       "0              0.006247  0.089184         0.293363        0.004098   \n",
       "1              0.022208  0.052885         0.287582        0.011820   \n",
       "2              0.005777  0.089613         0.573152        0.084394   \n",
       "3              0.012813  0.105405         0.300654        0.033294   \n",
       "4              0.005677  0.402024         0.314731        0.006988   \n",
       "..                  ...       ...              ...             ...   \n",
       "995            0.005427  0.921732         0.286576        0.012823   \n",
       "996            0.010864  0.114069         0.623680        0.026180   \n",
       "997            0.034462  0.005154         0.569382        0.002476   \n",
       "998            0.006616  0.101226         0.303419        0.257831   \n",
       "999            0.111051  0.007416         0.296129        0.000488   \n",
       "\n",
       "     R_EDUCATION_INCOME  T_FINES_6  CAT_GAMBLING  R_HEALTH_DEBT  T_HEALTH_12  \\\n",
       "0              0.000000   0.000000           1.0       0.000295     0.007044   \n",
       "1              0.000000   0.000000           0.0       0.000738     0.010280   \n",
       "2              0.000000   0.033272           1.0       0.000837     0.019613   \n",
       "3              0.102980   0.000000           1.0       0.001624     0.045523   \n",
       "4              0.000000   0.000000           1.0       0.001526     0.165383   \n",
       "..                  ...        ...           ...            ...          ...   \n",
       "995            0.000000   0.000000           1.0       0.001280     0.314123   \n",
       "996            0.000000   0.000000           0.0       0.001280     0.038236   \n",
       "997            0.000000   0.000000           0.0       0.002363     0.003236   \n",
       "998            0.503961   0.000000           0.0       0.000689     0.019173   \n",
       "999            0.000000   0.000000           0.0       0.101103     0.200163   \n",
       "\n",
       "     T_FINES_12  ...  R_EXPENDITURE_INCOME  R_EXPENDITURE  R_TAX_DEBT  \\\n",
       "0      0.000000  ...              0.249944       0.711912    0.000000   \n",
       "1      0.000000  ...              0.181777       0.320078    0.016195   \n",
       "2      0.025334  ...              0.249944       0.694415    0.000000   \n",
       "3      0.000000  ...              0.249944       0.568399    0.006941   \n",
       "4      0.000000  ...              0.181777       0.501060    0.004113   \n",
       "..          ...  ...                   ...            ...         ...   \n",
       "995    0.000000  ...              0.181777       0.605161    0.003085   \n",
       "996    0.000000  ...              0.181777       0.438848    0.010797   \n",
       "997    0.000000  ...              0.300037       1.000000    0.000000   \n",
       "998    0.000000  ...              0.333258       0.836515    0.000000   \n",
       "999    0.000000  ...              0.333258       0.525097    0.021594   \n",
       "\n",
       "     CAT_CREDIT_CARD    INCOME  R_GAMBLING_INCOME  R_GROCERIES_DEBT  \\\n",
       "0                0.0  0.050248           0.191934          0.002984   \n",
       "1                0.0  0.116536           0.000000          0.005443   \n",
       "2                0.0  0.046696           0.188533          0.002656   \n",
       "3                0.0  0.121821           0.469874          0.002361   \n",
       "4                1.0  0.226510           0.056365          0.004754   \n",
       "..               ...       ...                ...               ...   \n",
       "995              1.0  0.496745           0.047619          0.004459   \n",
       "996              0.0  0.122949           0.000000          0.003377   \n",
       "997              0.0  0.000000           0.092323          0.006492   \n",
       "998              1.0  0.054390           0.000000          0.003279   \n",
       "999              0.0  0.066858           0.000000          0.062000   \n",
       "\n",
       "     R_ENTERTAINMENT_DEBT  R_DEBT_INCOME  CREDIT_SCORE  \n",
       "0                0.001862       0.432425         0.288  \n",
       "1                0.017533       0.110563         0.650  \n",
       "2                0.002184       0.467560         0.338  \n",
       "3                0.006872       0.210807         0.518  \n",
       "4                0.000706       0.432425         0.346  \n",
       "..                    ...            ...           ...  \n",
       "995              0.000578       0.452082         0.236  \n",
       "996              0.013615       0.226042         0.578  \n",
       "997              0.000000       0.221318         0.398  \n",
       "998              0.001895       0.453444         0.414  \n",
       "999              0.054366       0.027027         0.714  \n",
       "\n",
       "[1000 rows x 24 columns]"
      ]
     },
     "execution_count": 3,
     "metadata": {},
     "output_type": "execute_result"
    }
   ],
   "source": [
    "df = pd.read_csv(\"Data/final_data_10.csv\")\n",
    "df"
   ]
  },
  {
   "cell_type": "code",
   "execution_count": 4,
   "metadata": {},
   "outputs": [
    {
     "data": {
      "text/plain": [
       "((800, 23), (200, 23), (800,), (200,))"
      ]
     },
     "execution_count": 4,
     "metadata": {},
     "output_type": "execute_result"
    }
   ],
   "source": [
    "from sklearn.model_selection import train_test_split\n",
    "\n",
    "x_train, x_test, y_train, y_test = train_test_split(df.iloc[:,:-1], df.iloc[:,-1], test_size=0.2, random_state=63)\n",
    "x_train.shape, x_test.shape, y_train.shape, y_test.shape"
   ]
  },
  {
   "cell_type": "code",
   "execution_count": 5,
   "metadata": {},
   "outputs": [
    {
     "name": "stderr",
     "output_type": "stream",
     "text": [
      "\u001b[32m2024-03-05 20:29:57.455\u001b[0m | \u001b[31m\u001b[1mERROR   \u001b[0m | \u001b[36mModels.abstract_model\u001b[0m:\u001b[36mtrained\u001b[0m:\u001b[36m16\u001b[0m - \u001b[31m\u001b[1mFirst is not trained yet\u001b[0m\n",
      "\u001b[32m2024-03-05 20:29:57.458\u001b[0m | \u001b[1mINFO    \u001b[0m | \u001b[36mModels.LinearRegression\u001b[0m:\u001b[36mtrain\u001b[0m:\u001b[36m19\u001b[0m - \u001b[1mModel was trained successfully: status:True\u001b[0m\n"
     ]
    },
    {
     "name": "stdout",
     "output_type": "stream",
     "text": [
      "False\n",
      "True\n",
      "MAE -> 0.03599927252799775\n",
      "MSE -> 0.0023020238266157527\n",
      "RMSE -> 0.047979410444645446\n",
      "R2 -> 0.8671589298778228\n",
      "MAPE -> 0.07558183954402349\n"
     ]
    }
   ],
   "source": [
    "from Models.LinearRegression import LinearRegressionModel\n",
    "\n",
    "# Create an instance of the LinearRegressionModel class\n",
    "model = LinearRegressionModel(\"First\")\n",
    "print(model.trained)\n",
    "model.train(x_train, y_train)\n",
    "print(model.trained)\n",
    "model.predict(x_test)\n",
    "\n",
    "for sctype in [\"MAE\", \"MSE\", \"RMSE\", \"R2\", \"MAPE\"]:\n",
    "    print(sctype,\"->\", model.score(y_test, score_type=sctype))"
   ]
  },
  {
   "cell_type": "code",
   "execution_count": 6,
   "metadata": {},
   "outputs": [
    {
     "name": "stderr",
     "output_type": "stream",
     "text": [
      "\u001b[32m2024-03-05 20:29:57.476\u001b[0m | \u001b[31m\u001b[1mERROR   \u001b[0m | \u001b[36mModels.abstract_model\u001b[0m:\u001b[36mtrained\u001b[0m:\u001b[36m16\u001b[0m - \u001b[31m\u001b[1mFirst Ridge Model is not trained yet\u001b[0m\n",
      "\u001b[32m2024-03-05 20:29:57.479\u001b[0m | \u001b[1mINFO    \u001b[0m | \u001b[36mModels.RidgeRegression\u001b[0m:\u001b[36mtrain\u001b[0m:\u001b[36m20\u001b[0m - \u001b[1mModel was trained successfully: status:True\u001b[0m\n"
     ]
    },
    {
     "name": "stdout",
     "output_type": "stream",
     "text": [
      "False\n",
      "True\n",
      "MAE -> 0.03626046305620068\n",
      "MSE -> 0.0022858047893568457\n",
      "RMSE -> 0.04781009087375641\n",
      "R2 -> 0.8680948690461815\n",
      "MAPE -> 0.07918189867326726\n"
     ]
    }
   ],
   "source": [
    "from Models.RidgeRegression import RidgeRegressionModel\n",
    "\n",
    "# Create an instance of the RidgeRegressionModel class\n",
    "model = RidgeRegressionModel(\"First Ridge Model\")\n",
    "print(model.trained)\n",
    "model.train(x_train, y_train)\n",
    "print(model.trained)\n",
    "model.predict(x_test)\n",
    "\n",
    "for sctype in [\"MAE\", \"MSE\", \"RMSE\", \"R2\", \"MAPE\"]:\n",
    "    print(sctype,\"->\", model.score(y_test, score_type=sctype))"
   ]
  },
  {
   "cell_type": "code",
   "execution_count": 7,
   "metadata": {},
   "outputs": [
    {
     "name": "stderr",
     "output_type": "stream",
     "text": [
      "\u001b[32m2024-03-05 20:29:57.496\u001b[0m | \u001b[31m\u001b[1mERROR   \u001b[0m | \u001b[36mModels.abstract_model\u001b[0m:\u001b[36msave\u001b[0m:\u001b[36m45\u001b[0m - \u001b[31m\u001b[1mFailed to save the model: expected str, bytes or os.PathLike object, not NoneType\u001b[0m\n"
     ]
    }
   ],
   "source": [
    "model.save()"
   ]
  },
  {
   "cell_type": "code",
   "execution_count": 8,
   "metadata": {},
   "outputs": [
    {
     "name": "stderr",
     "output_type": "stream",
     "text": [
      "\u001b[32m2024-03-05 20:29:57.511\u001b[0m | \u001b[1mINFO    \u001b[0m | \u001b[36mModels.abstract_model\u001b[0m:\u001b[36mload\u001b[0m:\u001b[36m55\u001b[0m - \u001b[1mModel loaded from First Ridge Model.pkl\u001b[0m\n"
     ]
    }
   ],
   "source": [
    "model_loaded = RidgeRegressionModel(\"First Ridge Model\").load()"
   ]
  },
  {
   "cell_type": "code",
   "execution_count": 9,
   "metadata": {},
   "outputs": [
    {
     "data": {
      "text/plain": [
       "True"
      ]
     },
     "execution_count": 9,
     "metadata": {},
     "output_type": "execute_result"
    }
   ],
   "source": [
    "model_loaded.trained"
   ]
  },
  {
   "cell_type": "code",
   "execution_count": 18,
   "metadata": {},
   "outputs": [
    {
     "name": "stderr",
     "output_type": "stream",
     "text": [
      "\u001b[32m2024-03-05 20:33:41.508\u001b[0m | \u001b[31m\u001b[1mERROR   \u001b[0m | \u001b[36mModels.abstract_model\u001b[0m:\u001b[36mtrained\u001b[0m:\u001b[36m16\u001b[0m - \u001b[31m\u001b[1mFirst Lasso Model is not trained yet\u001b[0m\n",
      "\u001b[32m2024-03-05 20:33:41.510\u001b[0m | \u001b[1mINFO    \u001b[0m | \u001b[36mModels.LassoRegression\u001b[0m:\u001b[36mtrain\u001b[0m:\u001b[36m20\u001b[0m - \u001b[1mModel was trained successfully: status:True\u001b[0m\n"
     ]
    },
    {
     "name": "stdout",
     "output_type": "stream",
     "text": [
      "False\n",
      "True\n",
      "MAE -> 0.03823115075079771\n",
      "MSE -> 0.0024493571250546776\n",
      "RMSE -> 0.049490980239379756\n",
      "R2 -> 0.8586568836335708\n",
      "MAPE -> 0.08032727438581076\n"
     ]
    }
   ],
   "source": [
    "from Models.LassoRegression import LassoRegressionModel\n",
    "\n",
    "# Create an instance of the LassoRegressionModel class\n",
    "model = LassoRegressionModel(\"First Lasso Model\", alpha=0.001)\n",
    "print(model.trained)\n",
    "model.train(x_train, y_train)\n",
    "print(model.trained)\n",
    "model.predict(x_test)\n",
    "\n",
    "for sctype in [\"MAE\", \"MSE\", \"RMSE\", \"R2\", \"MAPE\"]:\n",
    "    print(sctype,\"->\", model.score(y_test, score_type=sctype))"
   ]
  },
  {
   "cell_type": "code",
   "execution_count": 21,
   "metadata": {},
   "outputs": [],
   "source": [
    "def evaluate_model(model_class, x_train, y_train, **kwargs):\n",
    "    return model_class(\"First Model\", **kwargs).cross_validate(x_train, y_train, cv=5).mean()"
   ]
  },
  {
   "cell_type": "code",
   "execution_count": 25,
   "metadata": {},
   "outputs": [
    {
     "data": {
      "text/plain": [
       "[{'a': 1, 'b': 3}, {'a': 1, 'b': 4}, {'a': 2, 'b': 3}, {'a': 2, 'b': 4}]"
      ]
     },
     "execution_count": 25,
     "metadata": {},
     "output_type": "execute_result"
    }
   ],
   "source": [
    "from itertools import product\n",
    "\n",
    "kwargs_values = {\"a\": [1, 2], \"b\": [3, 4]}\n",
    "\n",
    "# Generating all possible combinations of values from the lists\n",
    "keys, values = zip(*kwargs_values.items())\n",
    "combinations = [dict(zip(keys, v)) for v in product(*values)]\n",
    "\n",
    "combinations"
   ]
  },
  {
   "cell_type": "code",
   "execution_count": 26,
   "metadata": {},
   "outputs": [],
   "source": [
    "def \n",
    "\n",
    "\n",
    "\n",
    "\n",
    "\n",
    "\n",
    "\n",
    "\n",
    "\n",
    "\n",
    "\n",
    "(model_class, x_train, y_train, kwargs_values):\n",
    "    keys, values = zip(*kwargs_values.items())\n",
    "    combinations = [dict(zip(keys, v)) for v in product(*values)]\n",
    "    for kwargs in combinations:\n",
    "        result = evaluate_model(model_class, x_train, y_train, **kwargs)\n",
    "        print(kwargs)\n",
    "        print(result)\n",
    "        print(\"--------------------------\")\n",
    "    # return results"
   ]
  },
  {
   "cell_type": "code",
   "execution_count": 29,
   "metadata": {},
   "outputs": [
    {
     "name": "stdout",
     "output_type": "stream",
     "text": [
      "{'alpha': 1e-08}\n",
      "0.8005703862242074\n",
      "--------------------------\n",
      "{'alpha': 1e-07}\n",
      "0.8005814847614499\n",
      "--------------------------\n",
      "{'alpha': 1e-06}\n",
      "0.800690267246209\n",
      "--------------------------\n",
      "{'alpha': 1e-05}\n",
      "0.8015220332727031\n",
      "--------------------------\n",
      "{'alpha': 0.0001}\n",
      "0.8030021116342378\n",
      "--------------------------\n",
      "{'alpha': 0.001}\n",
      "0.7940209515698673\n",
      "--------------------------\n",
      "{'alpha': 0.01}\n",
      "0.4486886408935593\n",
      "--------------------------\n",
      "{'alpha': 0.1}\n",
      "-0.0024770624626651917\n",
      "--------------------------\n",
      "{'alpha': 0.5}\n",
      "-0.0024770624626651917\n",
      "--------------------------\n",
      "{'alpha': 1}\n",
      "-0.0024770624626651917\n",
      "--------------------------\n"
     ]
    }
   ],
   "source": [
    "grid_search(LassoRegressionModel, x_train, y_train, {\"alpha\": [1e-8, 0.0000001, 0.000001, 0.00001, 0.0001, 0.001, 0.01, 0.1, 0.5, 1]})"
   ]
  },
  {
   "cell_type": "code",
   "execution_count": 15,
   "metadata": {},
   "outputs": [
    {
     "name": "stderr",
     "output_type": "stream",
     "text": [
      "/home/erikaramovich/Documents/MtqiZark/credit_score_prediction/venv/lib/python3.11/site-packages/sklearn/base.py:1351: UserWarning: With alpha=0, this algorithm does not converge well. You are advised to use the LinearRegression estimator\n",
      "  return fit_method(estimator, *args, **kwargs)\n",
      "/home/erikaramovich/Documents/MtqiZark/credit_score_prediction/venv/lib/python3.11/site-packages/sklearn/linear_model/_coordinate_descent.py:678: UserWarning: Coordinate descent with no regularization may lead to unexpected results and is discouraged.\n",
      "  model = cd_fast.enet_coordinate_descent(\n",
      "/home/erikaramovich/Documents/MtqiZark/credit_score_prediction/venv/lib/python3.11/site-packages/sklearn/linear_model/_coordinate_descent.py:678: ConvergenceWarning: Objective did not converge. You might want to increase the number of iterations, check the scale of the features or consider increasing regularisation. Duality gap: 9.488e-01, tolerance: 1.044e-03 Linear regression models with null weight for the l1 regularization term are more efficiently fitted using one of the solvers implemented in sklearn.linear_model.Ridge/RidgeCV instead.\n",
      "  model = cd_fast.enet_coordinate_descent(\n",
      "/home/erikaramovich/Documents/MtqiZark/credit_score_prediction/venv/lib/python3.11/site-packages/sklearn/base.py:1351: UserWarning: With alpha=0, this algorithm does not converge well. You are advised to use the LinearRegression estimator\n",
      "  return fit_method(estimator, *args, **kwargs)\n",
      "/home/erikaramovich/Documents/MtqiZark/credit_score_prediction/venv/lib/python3.11/site-packages/sklearn/linear_model/_coordinate_descent.py:678: UserWarning: Coordinate descent with no regularization may lead to unexpected results and is discouraged.\n",
      "  model = cd_fast.enet_coordinate_descent(\n",
      "/home/erikaramovich/Documents/MtqiZark/credit_score_prediction/venv/lib/python3.11/site-packages/sklearn/linear_model/_coordinate_descent.py:678: ConvergenceWarning: Objective did not converge. You might want to increase the number of iterations, check the scale of the features or consider increasing regularisation. Duality gap: 8.196e-01, tolerance: 9.373e-04 Linear regression models with null weight for the l1 regularization term are more efficiently fitted using one of the solvers implemented in sklearn.linear_model.Ridge/RidgeCV instead.\n",
      "  model = cd_fast.enet_coordinate_descent(\n",
      "/home/erikaramovich/Documents/MtqiZark/credit_score_prediction/venv/lib/python3.11/site-packages/sklearn/base.py:1351: UserWarning: With alpha=0, this algorithm does not converge well. You are advised to use the LinearRegression estimator\n",
      "  return fit_method(estimator, *args, **kwargs)\n",
      "/home/erikaramovich/Documents/MtqiZark/credit_score_prediction/venv/lib/python3.11/site-packages/sklearn/linear_model/_coordinate_descent.py:678: UserWarning: Coordinate descent with no regularization may lead to unexpected results and is discouraged.\n",
      "  model = cd_fast.enet_coordinate_descent(\n",
      "/home/erikaramovich/Documents/MtqiZark/credit_score_prediction/venv/lib/python3.11/site-packages/sklearn/linear_model/_coordinate_descent.py:678: ConvergenceWarning: Objective did not converge. You might want to increase the number of iterations, check the scale of the features or consider increasing regularisation. Duality gap: 9.471e-01, tolerance: 9.976e-04 Linear regression models with null weight for the l1 regularization term are more efficiently fitted using one of the solvers implemented in sklearn.linear_model.Ridge/RidgeCV instead.\n",
      "  model = cd_fast.enet_coordinate_descent(\n",
      "/home/erikaramovich/Documents/MtqiZark/credit_score_prediction/venv/lib/python3.11/site-packages/sklearn/base.py:1351: UserWarning: With alpha=0, this algorithm does not converge well. You are advised to use the LinearRegression estimator\n",
      "  return fit_method(estimator, *args, **kwargs)\n",
      "/home/erikaramovich/Documents/MtqiZark/credit_score_prediction/venv/lib/python3.11/site-packages/sklearn/linear_model/_coordinate_descent.py:678: UserWarning: Coordinate descent with no regularization may lead to unexpected results and is discouraged.\n",
      "  model = cd_fast.enet_coordinate_descent(\n",
      "/home/erikaramovich/Documents/MtqiZark/credit_score_prediction/venv/lib/python3.11/site-packages/sklearn/linear_model/_coordinate_descent.py:678: ConvergenceWarning: Objective did not converge. You might want to increase the number of iterations, check the scale of the features or consider increasing regularisation. Duality gap: 9.484e-01, tolerance: 1.014e-03 Linear regression models with null weight for the l1 regularization term are more efficiently fitted using one of the solvers implemented in sklearn.linear_model.Ridge/RidgeCV instead.\n",
      "  model = cd_fast.enet_coordinate_descent(\n",
      "/home/erikaramovich/Documents/MtqiZark/credit_score_prediction/venv/lib/python3.11/site-packages/sklearn/base.py:1351: UserWarning: With alpha=0, this algorithm does not converge well. You are advised to use the LinearRegression estimator\n",
      "  return fit_method(estimator, *args, **kwargs)\n",
      "/home/erikaramovich/Documents/MtqiZark/credit_score_prediction/venv/lib/python3.11/site-packages/sklearn/linear_model/_coordinate_descent.py:678: UserWarning: Coordinate descent with no regularization may lead to unexpected results and is discouraged.\n",
      "  model = cd_fast.enet_coordinate_descent(\n",
      "/home/erikaramovich/Documents/MtqiZark/credit_score_prediction/venv/lib/python3.11/site-packages/sklearn/linear_model/_coordinate_descent.py:678: ConvergenceWarning: Objective did not converge. You might want to increase the number of iterations, check the scale of the features or consider increasing regularisation. Duality gap: 9.545e-01, tolerance: 1.038e-03 Linear regression models with null weight for the l1 regularization term are more efficiently fitted using one of the solvers implemented in sklearn.linear_model.Ridge/RidgeCV instead.\n",
      "  model = cd_fast.enet_coordinate_descent(\n"
     ]
    },
    {
     "data": {
      "text/plain": [
       "array([0.78777744, 0.77561928, 0.82535599, 0.81423178, 0.79986119])"
      ]
     },
     "execution_count": 15,
     "metadata": {},
     "output_type": "execute_result"
    }
   ],
   "source": [
    "model.cross_validate(x_train, y_train, cv=5, scoring=\"r2\")"
   ]
  },
  {
   "cell_type": "code",
   "execution_count": null,
   "metadata": {},
   "outputs": [],
   "source": []
  },
  {
   "cell_type": "code",
   "execution_count": null,
   "metadata": {},
   "outputs": [],
   "source": []
  }
 ],
 "metadata": {
  "kernelspec": {
   "display_name": "venv",
   "language": "python",
   "name": "python3"
  },
  "language_info": {
   "codemirror_mode": {
    "name": "ipython",
    "version": 3
   },
   "file_extension": ".py",
   "mimetype": "text/x-python",
   "name": "python",
   "nbconvert_exporter": "python",
   "pygments_lexer": "ipython3",
   "version": "3.11.6"
  }
 },
 "nbformat": 4,
 "nbformat_minor": 2
}
