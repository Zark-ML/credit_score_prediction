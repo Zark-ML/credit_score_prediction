{
 "cells": [
  {
   "cell_type": "code",
   "execution_count": 26,
   "metadata": {},
   "outputs": [],
   "source": [
    "import pandas as pd\n",
    "import numpy as np\n",
    "import json\n",
    "from sklearn.linear_model import LinearRegression\n",
    "from sklearn.model_selection import train_test_split\n",
    "from sklearn.metrics import mean_squared_error\n",
    "from sklearn.metrics import r2_score    \n",
    "from sklearn.metrics import mean_absolute_error\n",
    "from sklearn.metrics import mean_absolute_percentage_error"
   ]
  },
  {
   "cell_type": "code",
   "execution_count": 20,
   "metadata": {},
   "outputs": [],
   "source": [
    "df = pd.read_csv(\"Data/cleaned_data.csv\")"
   ]
  },
  {
   "cell_type": "code",
   "execution_count": 21,
   "metadata": {},
   "outputs": [
    {
     "name": "stdout",
     "output_type": "stream",
     "text": [
      "<class 'pandas.core.frame.DataFrame'>\n",
      "RangeIndex: 900 entries, 0 to 899\n",
      "Data columns (total 85 columns):\n",
      " #   Column                   Non-Null Count  Dtype  \n",
      "---  ------                   --------------  -----  \n",
      " 0   INCOME                   900 non-null    int64  \n",
      " 1   SAVINGS                  900 non-null    int64  \n",
      " 2   DEBT                     900 non-null    int64  \n",
      " 3   R_SAVINGS_INCOME         900 non-null    float64\n",
      " 4   R_DEBT_INCOME            900 non-null    float64\n",
      " 5   R_DEBT_SAVINGS           900 non-null    float64\n",
      " 6   T_CLOTHING_12            900 non-null    int64  \n",
      " 7   T_CLOTHING_6             900 non-null    int64  \n",
      " 8   R_CLOTHING               900 non-null    float64\n",
      " 9   R_CLOTHING_INCOME        900 non-null    float64\n",
      " 10  R_CLOTHING_SAVINGS       900 non-null    float64\n",
      " 11  R_CLOTHING_DEBT          900 non-null    float64\n",
      " 12  T_EDUCATION_12           900 non-null    int64  \n",
      " 13  T_EDUCATION_6            900 non-null    int64  \n",
      " 14  R_EDUCATION              900 non-null    float64\n",
      " 15  R_EDUCATION_INCOME       900 non-null    float64\n",
      " 16  R_EDUCATION_SAVINGS      900 non-null    float64\n",
      " 17  R_EDUCATION_DEBT         900 non-null    float64\n",
      " 18  T_ENTERTAINMENT_12       900 non-null    int64  \n",
      " 19  T_ENTERTAINMENT_6        900 non-null    int64  \n",
      " 20  R_ENTERTAINMENT          900 non-null    float64\n",
      " 21  R_ENTERTAINMENT_INCOME   900 non-null    float64\n",
      " 22  R_ENTERTAINMENT_SAVINGS  900 non-null    float64\n",
      " 23  R_ENTERTAINMENT_DEBT     900 non-null    float64\n",
      " 24  T_FINES_12               900 non-null    int64  \n",
      " 25  T_FINES_6                900 non-null    int64  \n",
      " 26  R_FINES                  900 non-null    float64\n",
      " 27  R_FINES_INCOME           900 non-null    float64\n",
      " 28  R_FINES_SAVINGS          900 non-null    float64\n",
      " 29  R_FINES_DEBT             900 non-null    float64\n",
      " 30  T_GAMBLING_12            900 non-null    int64  \n",
      " 31  T_GAMBLING_6             900 non-null    int64  \n",
      " 32  R_GAMBLING               900 non-null    float64\n",
      " 33  R_GAMBLING_INCOME        900 non-null    float64\n",
      " 34  R_GAMBLING_SAVINGS       900 non-null    float64\n",
      " 35  R_GAMBLING_DEBT          900 non-null    float64\n",
      " 36  T_GROCERIES_12           900 non-null    int64  \n",
      " 37  T_GROCERIES_6            900 non-null    int64  \n",
      " 38  R_GROCERIES              900 non-null    float64\n",
      " 39  R_GROCERIES_INCOME       900 non-null    float64\n",
      " 40  R_GROCERIES_SAVINGS      900 non-null    float64\n",
      " 41  R_GROCERIES_DEBT         900 non-null    float64\n",
      " 42  T_HEALTH_12              900 non-null    int64  \n",
      " 43  T_HEALTH_6               900 non-null    int64  \n",
      " 44  R_HEALTH                 900 non-null    float64\n",
      " 45  R_HEALTH_INCOME          900 non-null    float64\n",
      " 46  R_HEALTH_SAVINGS         900 non-null    float64\n",
      " 47  R_HEALTH_DEBT            900 non-null    float64\n",
      " 48  T_HOUSING_12             900 non-null    int64  \n",
      " 49  T_HOUSING_6              900 non-null    int64  \n",
      " 50  R_HOUSING                900 non-null    float64\n",
      " 51  R_HOUSING_INCOME         900 non-null    float64\n",
      " 52  R_HOUSING_SAVINGS        900 non-null    float64\n",
      " 53  R_HOUSING_DEBT           900 non-null    float64\n",
      " 54  T_TAX_12                 900 non-null    int64  \n",
      " 55  T_TAX_6                  900 non-null    int64  \n",
      " 56  R_TAX                    900 non-null    float64\n",
      " 57  R_TAX_INCOME             900 non-null    float64\n",
      " 58  R_TAX_SAVINGS            900 non-null    float64\n",
      " 59  R_TAX_DEBT               900 non-null    float64\n",
      " 60  T_TRAVEL_12              900 non-null    int64  \n",
      " 61  T_TRAVEL_6               900 non-null    int64  \n",
      " 62  R_TRAVEL                 900 non-null    float64\n",
      " 63  R_TRAVEL_INCOME          900 non-null    float64\n",
      " 64  R_TRAVEL_SAVINGS         900 non-null    float64\n",
      " 65  R_TRAVEL_DEBT            900 non-null    float64\n",
      " 66  T_UTILITIES_12           900 non-null    int64  \n",
      " 67  T_UTILITIES_6            900 non-null    int64  \n",
      " 68  R_UTILITIES              900 non-null    float64\n",
      " 69  R_UTILITIES_INCOME       900 non-null    float64\n",
      " 70  R_UTILITIES_SAVINGS      900 non-null    float64\n",
      " 71  R_UTILITIES_DEBT         900 non-null    float64\n",
      " 72  T_EXPENDITURE_12         900 non-null    int64  \n",
      " 73  T_EXPENDITURE_6          900 non-null    int64  \n",
      " 74  R_EXPENDITURE            900 non-null    float64\n",
      " 75  R_EXPENDITURE_INCOME     900 non-null    float64\n",
      " 76  R_EXPENDITURE_SAVINGS    900 non-null    float64\n",
      " 77  R_EXPENDITURE_DEBT       900 non-null    float64\n",
      " 78  CAT_GAMBLING             900 non-null    int64  \n",
      " 79  CAT_DEBT                 900 non-null    int64  \n",
      " 80  CAT_CREDIT_CARD          900 non-null    int64  \n",
      " 81  CAT_MORTGAGE             900 non-null    int64  \n",
      " 82  CAT_SAVINGS_ACCOUNT      900 non-null    int64  \n",
      " 83  CAT_DEPENDENTS           900 non-null    int64  \n",
      " 84  CREDIT_SCORE             900 non-null    int64  \n",
      "dtypes: float64(51), int64(34)\n",
      "memory usage: 597.8 KB\n"
     ]
    }
   ],
   "source": [
    "df.info()"
   ]
  },
  {
   "cell_type": "code",
   "execution_count": 22,
   "metadata": {},
   "outputs": [],
   "source": [
    "X = df.drop(\"CREDIT_SCORE\", axis=1)\n",
    "y = df[\"CREDIT_SCORE\"]"
   ]
  },
  {
   "cell_type": "code",
   "execution_count": 23,
   "metadata": {},
   "outputs": [
    {
     "name": "stdout",
     "output_type": "stream",
     "text": [
      "(675, 84) (675,) (225, 84) (225,)\n"
     ]
    }
   ],
   "source": [
    "X_train, X_test, y_train, y_test = train_test_split(X, y, test_size=0.25, random_state=42)\n",
    "print(X_train.shape, y_train.shape, X_test.shape, y_test.shape)"
   ]
  },
  {
   "cell_type": "code",
   "execution_count": 24,
   "metadata": {},
   "outputs": [],
   "source": [
    "model = LinearRegression()"
   ]
  },
  {
   "cell_type": "code",
   "execution_count": null,
   "metadata": {},
   "outputs": [],
   "source": []
  },
  {
   "cell_type": "code",
   "execution_count": 25,
   "metadata": {},
   "outputs": [
    {
     "name": "stdout",
     "output_type": "stream",
     "text": [
      "[644.79648918 644.96357335 423.59807317 619.69656208 644.17548305\n",
      " 569.12683101 497.43977626 621.30381452 611.80564264 553.37249178\n",
      " 621.86390422 540.82265491 625.57549488 518.4678776  577.90539512\n",
      " 562.80419064 591.6612255  640.69447979 631.11338525 583.44101941\n",
      " 627.93076339 651.98614284 605.83808769 504.56994486 510.40584254\n",
      " 613.54555506 574.65340381 527.34699001 645.89621574 641.2819584\n",
      " 635.75995383 631.37635344 535.21680247 532.38510817 624.43929436\n",
      " 659.21049643 641.61697684 501.33494527 660.49889124 637.00463444\n",
      " 642.06816335 626.35600402 542.24387726 564.17924769 505.77235729\n",
      " 603.16483566 588.2462291  617.33107833 563.26685284 615.15585942\n",
      " 386.5632376  606.80829573 615.16387001 595.32037957 655.24297195\n",
      " 573.90856977 614.60361002 593.89551661 546.03213171 570.4283763\n",
      " 644.49238367 515.07401281 619.80898803 527.15784071 621.15362151\n",
      " 607.5471761  625.35458452 591.6002931  571.86875502 560.72345751\n",
      " 666.45739836 637.33831923 628.12301359 419.32029106 690.0848009\n",
      " 610.56720493 657.1332759  561.5997909  597.61793529 598.88404648\n",
      " 612.96635104 634.47473877 627.31153754 544.35760368 557.89070464\n",
      " 552.35837321 413.32422959 519.41731607 563.83940839 613.48848133\n",
      " 491.39128106 618.05961274 503.38204334 651.17439075 592.19774069\n",
      " 613.21999438 622.05489669 640.78194039 640.52452323 650.96839587\n",
      " 643.11325907 675.72484279 648.78683132 599.92987776 461.36207584\n",
      " 652.43982748 610.10918265 620.62551624 646.65534285 662.71032973\n",
      " 582.97036408 495.43549008 621.20854311 618.92960217 556.38820366\n",
      " 584.77652542 589.42791643 551.51069094 582.63358373 597.63335292\n",
      " 613.36617051 625.48100855 594.54804497 556.47186871 524.44608752\n",
      " 605.64613467 587.12006778 642.08594979 581.5415641  639.95017441\n",
      " 621.62389844 663.32081579 511.43167438 497.51965733 512.42776438\n",
      " 644.88148872 609.39816665 655.28400039 598.50939384 633.92200447\n",
      " 565.34120516 589.23498737 476.40788607 578.68149036 363.66763138\n",
      " 585.08748379 584.33387857 621.51005584 610.90191434 659.32829645\n",
      " 576.38999478 607.46938365 555.56230294 623.55310065 636.47205877\n",
      " 629.33086281 605.72072617 572.14659211 651.77290205 497.13109312\n",
      " 605.11970756 499.87743406 596.46719028 626.943104   452.46462701\n",
      " 625.86941222 589.91241475 607.84762029 606.4529607  525.84752416\n",
      " 657.94676213 581.97721573 594.03528858 625.56657719 612.48740687\n",
      " 572.68511055 645.51989878 529.29693407 591.85492004 632.01790466\n",
      " 542.14776973 660.66388874 615.52550499 653.48439683 603.98879868\n",
      " 597.21350151 632.4326059  474.15526074 575.11415966 604.90636302\n",
      " 617.05024177 611.8465508  644.36901686 569.29561386 495.94642117\n",
      " 569.42125287 574.73397624 612.66499364 645.66880554 535.30645741\n",
      " 633.61699705 482.05030424 689.08271957 495.52245653 581.58590564\n",
      " 605.34409705 343.85550517 462.63933408 614.19711487 593.96497832\n",
      " 641.49659136 614.70436636 522.08909536 375.82932434 625.70433202\n",
      " 661.96297151 604.3153682  562.47747628 625.66162395 588.70559377\n",
      " 405.98931666 474.44057096 607.69675351 601.09785535 571.55643566]\n"
     ]
    }
   ],
   "source": [
    "model.fit(X_train, y_train)\n",
    "predictions = model.predict(X_test)\n",
    "print(predictions)"
   ]
  },
  {
   "cell_type": "code",
   "execution_count": 29,
   "metadata": {},
   "outputs": [
    {
     "name": "stdout",
     "output_type": "stream",
     "text": [
      "Mean Squared Error:  811.3562302377928 \n",
      " R2 Score:  0.8009735076871529 \n",
      " Mean Absolute Error:  21.048496559419814 \n",
      " Mean Absolute Percentage Error:  0.036834436068258744 \n",
      " RMSE: 28.484315512888717\n"
     ]
    }
   ],
   "source": [
    "print(\"Mean Squared Error: \", mean_squared_error(y_test, predictions), \"\\n\", \n",
    "      \"R2 Score: \", r2_score(y_test, predictions), \"\\n\", \n",
    "      \"Mean Absolute Error: \", mean_absolute_error(y_test, predictions), \"\\n\",\n",
    "      \"Mean Absolute Percentage Error: \", mean_absolute_percentage_error(y_test, predictions), \"\\n\",\n",
    "      \"RMSE:\", np.sqrt(mean_squared_error(y_test, predictions))                                                                  )"
   ]
  }
 ],
 "metadata": {
  "kernelspec": {
   "display_name": "venv",
   "language": "python",
   "name": "python3"
  },
  "language_info": {
   "codemirror_mode": {
    "name": "ipython",
    "version": 3
   },
   "file_extension": ".py",
   "mimetype": "text/x-python",
   "name": "python",
   "nbconvert_exporter": "python",
   "pygments_lexer": "ipython3",
   "version": "3.11.6"
  }
 },
 "nbformat": 4,
 "nbformat_minor": 2
}
